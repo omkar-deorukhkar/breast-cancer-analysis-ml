{
 "cells": [
  {
   "cell_type": "code",
   "execution_count": 41,
   "metadata": {},
   "outputs": [
    {
     "name": "stderr",
     "output_type": "stream",
     "text": [
      "c:\\users\\omkar\\lib\\site-packages\\ipykernel_launcher.py:16: SettingWithCopyWarning: \n",
      "A value is trying to be set on a copy of a slice from a DataFrame\n",
      "\n",
      "See the caveats in the documentation: http://pandas.pydata.org/pandas-docs/stable/indexing.html#indexing-view-versus-copy\n",
      "  app.launch_new_instance()\n"
     ]
    },
    {
     "data": {
      "image/png": "[encoded data removed]",
      "text/plain": [
       "<Figure size 1080x720 with 1 Axes>"
      ]
     },
     "metadata": {},
     "output_type": "display_data"
    },
    {
     "name": "stdout",
     "output_type": "stream",
     "text": [
      "0    2.956332\n",
      "1    1.325328\n",
      "2    1.443231\n",
      "3    1.364629\n",
      "4    2.120087\n",
      "5    1.305677\n",
      "6    2.100437\n",
      "7    2.100437\n",
      "8    1.063319\n",
      "Name: benign, dtype: float64\n"
     ]
    }
   ],
   "source": [
    "import pandas as pd\n",
    "import matplotlib.pyplot as plt\n",
    "from pandas.plotting import scatter_matrix\n",
    "import numpy as np\n",
    "import seaborn as sns\n",
    "\n",
    "\n",
    "names = ['scodeno','clump_th','un_cell_sz','un_cell_sh','marg_adhe','s_epi_cell_sz','bare_uc','bland_chrm','nor_nucl','mitoses','class']\n",
    "df = pd.read_csv(\"C:\\\\Users\\\\Omkar\\\\Desktop\\\\bcw.data\", names= names)\n",
    "\n",
    "del df['scodeno']\n",
    "\n",
    "for miss in df['bare_uc']:\n",
    "    if miss=='?':\n",
    "        i=df[df.bare_uc == miss].index\n",
    "        df['bare_uc'][i]=0\n",
    "        \n",
    "\n",
    "\n",
    "df3 = df[['clump_th','un_cell_sz','un_cell_sh','marg_adhe','s_epi_cell_sz','bare_uc','bland_chrm','nor_nucl','mitoses']]\n",
    "\n",
    "col =[]\n",
    "\n",
    "for cl in df['class']:\n",
    "    if cl==2:\n",
    "        col.append('red')\n",
    "    else:\n",
    "        col.append('green')\n",
    "h_list=[]\n",
    "\n",
    "\n",
    "def calc(name):\n",
    "    mlg=[]\n",
    "    bgn=[]\n",
    "    for i,j in zip(df[name],df['class']):\n",
    "        if j==2:\n",
    "            bgn.append(i)\n",
    "        else:\n",
    "            mlg.append(i)\n",
    "    mlg_mean =np.mean(np.array(mlg).astype(np.float))\n",
    "    bgn_mean = np.mean(np.array(bgn).astype(np.float))\n",
    "    return [bgn_mean,mlg_mean]\n",
    "    \n",
    "    \n",
    "\n",
    "\n",
    "names = ['clump_th','un_cell_sz','un_cell_sh','marg_adhe','s_epi_cell_sz','bare_uc','bland_chrm','bland_chrm','mitoses']\n",
    "for n in names:\n",
    "    h_list.append(calc(n))\n",
    "hist_df = pd.DataFrame(h_list, columns=['benign','malignant'])\n",
    "#print(hist_df)\n",
    "plt.figure(figsize=(15,10))\n",
    "plt.bar(names,hist_df['benign'])\n",
    "plt.title('Benign Tumour Analysis')\n",
    "\n",
    "plt.show()\n",
    "\n",
    "print(hist_df['benign'])\n",
    "#scatter_matrix(df3,alpha=0.3,figsize=(8,8),color = col, diagonal = 'hist')\n",
    "\n",
    "    \n",
    "\n"
   ]
  },
  {
   "cell_type": "code",
   "execution_count": null,
   "metadata": {},
   "outputs": [],
   "source": []
  },
  {
   "cell_type": "code",
   "execution_count": null,
   "metadata": {},
   "outputs": [],
   "source": []
  }
 ],
 "metadata": {
  "kernelspec": {
   "display_name": "Python 3",
   "language": "python",
   "name": "python3"
  },
  "language_info": {
   "codemirror_mode": {
    "name": "ipython",
    "version": 3
   },
   "file_extension": ".py",
   "mimetype": "text/x-python",
   "name": "python",
   "nbconvert_exporter": "python",
   "pygments_lexer": "ipython3",
   "version": "3.6.6"
  }
 },
 "nbformat": 4,
 "nbformat_minor": 2
}
